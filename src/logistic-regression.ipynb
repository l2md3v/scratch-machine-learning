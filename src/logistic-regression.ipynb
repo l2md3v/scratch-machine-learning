{
 "cells": [
  {
   "cell_type": "markdown",
   "id": "d43c7fca",
   "metadata": {
    "colab_type": "text",
    "id": "view-in-github"
   },
   "source": [
    "<a href=\"https://colab.research.google.com/github/tiesen243/machine-learing-from-scratch/blob/main/src/logistic_regression.ipynb\" target=\"_parent\"><img src=\"https://colab.research.google.com/assets/colab-badge.svg\" alt=\"Open In Colab\"/></a>"
   ]
  },
  {
   "cell_type": "markdown",
   "id": "016cd7b9",
   "metadata": {},
   "source": [
    "<h1 align='center'>Logistic Regression</h1>"
   ]
  },
  {
   "cell_type": "markdown",
   "id": "Bzh-P0oXnxMz",
   "metadata": {
    "id": "Bzh-P0oXnxMz"
   },
   "source": [
    "## Import libraries"
   ]
  },
  {
   "cell_type": "code",
   "execution_count": 8,
   "id": "HajFPHuq3qjU",
   "metadata": {
    "id": "HajFPHuq3qjU"
   },
   "outputs": [],
   "source": [
    "import numpy as np\n",
    "import matplotlib.pyplot as plt\n",
    "\n",
    "from sklearn.datasets import load_iris\n",
    "from sklearn.model_selection import train_test_split"
   ]
  },
  {
   "cell_type": "markdown",
   "id": "TOdrckjYn0_-",
   "metadata": {
    "id": "TOdrckjYn0_-",
    "jp-MarkdownHeadingCollapsed": true
   },
   "source": [
    "## Model"
   ]
  },
  {
   "cell_type": "markdown",
   "id": "XRI4EN9g4ucQ",
   "metadata": {
    "id": "XRI4EN9g4ucQ",
    "jp-MarkdownHeadingCollapsed": true
   },
   "source": [
    "### Utils"
   ]
  },
  {
   "cell_type": "code",
   "execution_count": 9,
   "id": "Zweeqztan6VR",
   "metadata": {
    "id": "Zweeqztan6VR"
   },
   "outputs": [],
   "source": [
    "def softmax(z: np.ndarray) -> np.ndarray:\n",
    "    \"\"\"\n",
    "    Compute the softmax of vector z\n",
    "\n",
    "    Parameters\n",
    "    ----------\n",
    "    z : np.ndarray\n",
    "        A vector of shape (N, C) where N is the number of samples and C is the number of classes\n",
    "\n",
    "    Returns\n",
    "    -------\n",
    "    np.ndarray\n",
    "        A vector of shape (N, C) where each row is a probability distribution over C classes\n",
    "    \"\"\"\n",
    "    return np.exp(z) / np.sum(np.exp(z), axis=1).reshape(-1, 1)"
   ]
  },
  {
   "cell_type": "code",
   "execution_count": 10,
   "id": "to_sKDR74gA2",
   "metadata": {
    "id": "to_sKDR74gA2"
   },
   "outputs": [],
   "source": [
    "def cross_entropy(y: np.ndarray, probs: np.ndarray):\n",
    "    \"\"\"\n",
    "    Compute the cross entropy loss\n",
    "\n",
    "    Parameters\n",
    "    ----------\n",
    "    y : np.ndarray\n",
    "        A vector of shape (N, C) where N is the number of samples and C is the number of classes\n",
    "        Each row is a one-hot encoded vector\n",
    "    probs : np.ndarray\n",
    "        A vector of shape (N, C) where N is the number of samples and C is the number of classes\n",
    "        Each row is a probability distribution over C classes\n",
    "\n",
    "    Returns\n",
    "    -------\n",
    "    float\n",
    "        The cross entropy loss\n",
    "    \"\"\"\n",
    "    return -1 * np.mean(y * np.log(probs))"
   ]
  },
  {
   "cell_type": "code",
   "execution_count": 11,
   "id": "GmsOVtjR36aL",
   "metadata": {
    "id": "GmsOVtjR36aL"
   },
   "outputs": [],
   "source": [
    "def one_hot(y: np.ndarray) -> np.ndarray:\n",
    "    \"\"\"\n",
    "    One-hot encode the target vector\n",
    "\n",
    "    Parameters\n",
    "    ----------\n",
    "    y : np.ndarray\n",
    "        A vector of shape (N,) where N is the number of samples\n",
    "\n",
    "    Returns\n",
    "    -------\n",
    "    np.ndarray\n",
    "        A matrix of shape (N, C) where C is the number of classes\n",
    "    \"\"\"\n",
    "    return np.eye(len(np.unique(y)))[y]"
   ]
  },
  {
   "cell_type": "markdown",
   "id": "eFYfgmL74xfP",
   "metadata": {
    "id": "eFYfgmL74xfP",
    "jp-MarkdownHeadingCollapsed": true
   },
   "source": [
    "### Logistic Regression class"
   ]
  },
  {
   "cell_type": "code",
   "execution_count": 12,
   "id": "NdCcjtUqvI_F",
   "metadata": {
    "id": "NdCcjtUqvI_F"
   },
   "outputs": [],
   "source": [
    "class LogisticRegression:\n",
    "    def __init__(self, lr: float = 0.001) -> None:\n",
    "        \"\"\"\n",
    "        Initialize the model.\n",
    "\n",
    "        Parameters\n",
    "        ----------\n",
    "        lr : float, optional\n",
    "            The learning rate of the model, by default 0.001.\n",
    "        \"\"\"\n",
    "        self.lr = lr\n",
    "\n",
    "        self.weights: np.ndarray\n",
    "        self.bias: np.ndarray\n",
    "\n",
    "        self.loss: list = []\n",
    "        self.accuracy: list = []\n",
    "\n",
    "    def fit(\n",
    "        self,\n",
    "        X: np.ndarray,\n",
    "        y: np.ndarray,\n",
    "        n_iter: int = 1000,\n",
    "        seed: int = 69,\n",
    "        verbose: bool = False,\n",
    "    ) -> None:\n",
    "        \"\"\"\n",
    "        Fit the model to the data.\n",
    "\n",
    "        Parameters\n",
    "        ----------\n",
    "        X : np.ndarray\n",
    "            The input data.\n",
    "        y : np.ndarray\n",
    "            The target data.\n",
    "        n_iter : int, optional\n",
    "            The number of iterations to train the model, by default 1000.\n",
    "        seed : int, optional\n",
    "            The random seed to use, by default 69.\n",
    "        verbose : bool, optional\n",
    "            Whether to print the loss and accuracy of the model during training, by default False.\n",
    "        \"\"\"\n",
    "        np.random.seed(seed)\n",
    "\n",
    "        n_samples, n_features = X.shape\n",
    "        n_classes = len(np.unique(y))\n",
    "\n",
    "        self.weights = np.zeros((n_features, n_classes))\n",
    "        self.bias = np.zeros(n_classes)\n",
    "\n",
    "        X_train, X_val, y_train, y_val = train_test_split(X, y, test_size=0.2)\n",
    "\n",
    "        for i in range(n_iter):\n",
    "            y_pred = self.predict_proba(X_train)\n",
    "\n",
    "            self.loss.append(cross_entropy(one_hot(y_train), y_pred))\n",
    "            self.accuracy.append(self.score(X_val, y_val))\n",
    "\n",
    "            error = y_pred - one_hot(y_train)\n",
    "            dw = (1 / n_samples) * np.dot(X_train.T, error)\n",
    "            db = (1 / n_samples) * np.sum(error)\n",
    "\n",
    "            self.weights -= self.lr * dw\n",
    "            self.bias -= self.lr * db\n",
    "\n",
    "            if verbose and i % 100 == 0:\n",
    "                print(\n",
    "                    f\"Epoch {i}: Loss = {self.loss[-1]:.4f}, Accuracy = {self.accuracy[-1]:.4f}\"\n",
    "                )\n",
    "\n",
    "    def predict_proba(self, X: np.ndarray) -> np.ndarray:\n",
    "        \"\"\"\n",
    "        Predict the probability of each class for each sample.\n",
    "\n",
    "        Parameters\n",
    "        ----------\n",
    "        X : np.ndarray\n",
    "            The input data.\n",
    "\n",
    "        Returns\n",
    "        -------\n",
    "        np.ndarray\n",
    "            The predicted probabilities.\n",
    "        \"\"\"\n",
    "        y_pred = np.dot(X, self.weights) + self.bias\n",
    "        return softmax(y_pred)\n",
    "\n",
    "    def predict(self, X: np.ndarray) -> np.ndarray:\n",
    "        \"\"\"\n",
    "        Predict the class of each sample.\n",
    "\n",
    "        Parameters\n",
    "        ----------\n",
    "        X : np.ndarray\n",
    "            The input data.\n",
    "\n",
    "        Returns\n",
    "        -------\n",
    "        np.ndarray\n",
    "            The predicted classes.\n",
    "        \"\"\"\n",
    "        return np.argmax(self.predict_proba(X), axis=1)\n",
    "\n",
    "    def score(self, X: np.ndarray, y: np.ndarray):\n",
    "        \"\"\"\n",
    "        Compute the accuracy of the model.\n",
    "\n",
    "        Parameters\n",
    "        ----------\n",
    "        X : np.ndarray\n",
    "            The input data.\n",
    "        y : np.ndarray\n",
    "            The target data.\n",
    "\n",
    "        Returns\n",
    "        -------\n",
    "        float\n",
    "            The accuracy of the model.\n",
    "        \"\"\"\n",
    "        return np.mean(self.predict(X) == y)\n",
    "\n",
    "    def save(self, path: str = \"model.npz\") -> None:\n",
    "        \"\"\"\n",
    "        Save the model to a file.\n",
    "\n",
    "        Parameters\n",
    "        ----------\n",
    "        path : str, optional\n",
    "            The path to save the model to, by default 'model.npz'.\n",
    "        \"\"\"\n",
    "        np.savez(\n",
    "            path,\n",
    "            weights=self.weights,\n",
    "            bias=self.bias,\n",
    "            loss=self.loss,\n",
    "            accuracy=self.accuracy,\n",
    "        )\n",
    "\n",
    "    def load(self, path: str = \"model.npz\") -> None:\n",
    "        \"\"\"\n",
    "        Load the model from a file.\n",
    "\n",
    "        Parameters\n",
    "        ----------\n",
    "        path : str, optional\n",
    "            The path to load the model from, by default 'model.npz'.\n",
    "        \"\"\"\n",
    "        data = np.load(path)\n",
    "        self.weights = data[\"weights\"]\n",
    "        self.bias = data[\"bias\"]\n",
    "        self.loss = data[\"loss\"].tolist()\n",
    "        self.accuracy = data[\"accuracy\"].tolist()"
   ]
  },
  {
   "cell_type": "markdown",
   "id": "CHK1NCUSnspI",
   "metadata": {
    "id": "CHK1NCUSnspI",
    "jp-MarkdownHeadingCollapsed": true
   },
   "source": [
    "## Train model"
   ]
  },
  {
   "cell_type": "code",
   "execution_count": 13,
   "id": "YpsJw5Xhmmxr",
   "metadata": {
    "colab": {
     "base_uri": "https://localhost:8080/"
    },
    "id": "YpsJw5Xhmmxr",
    "outputId": "a5ad001b-f894-417b-a012-962f588d53e6"
   },
   "outputs": [
    {
     "name": "stdout",
     "output_type": "stream",
     "text": [
      "(120, 4) (30, 4) (120,) (30,)\n",
      "Numbers of classes: 3\n"
     ]
    }
   ],
   "source": [
    "X, y = load_iris(return_X_y=True)\n",
    "\n",
    "X_train, X_test, y_train, y_test = train_test_split(\n",
    "    X, y, test_size=0.2, random_state=69\n",
    ")\n",
    "\n",
    "print(X_train.shape, X_test.shape, y_train.shape, y_test.shape)\n",
    "print(f\"Numbers of classes: {len(np.unique(y))}\")"
   ]
  },
  {
   "cell_type": "code",
   "execution_count": 14,
   "id": "ohlpG2a-vXOc",
   "metadata": {
    "colab": {
     "base_uri": "https://localhost:8080/"
    },
    "id": "ohlpG2a-vXOc",
    "outputId": "e97cd60b-ec4d-470c-f01a-c1096132b6bf"
   },
   "outputs": [
    {
     "name": "stdout",
     "output_type": "stream",
     "text": [
      "Epoch 0: Loss = 0.3662, Accuracy = 0.2083\n",
      "Epoch 100: Loss = 0.3471, Accuracy = 0.7500\n",
      "Epoch 200: Loss = 0.3313, Accuracy = 0.7917\n",
      "Epoch 300: Loss = 0.3173, Accuracy = 0.7500\n",
      "Epoch 400: Loss = 0.3047, Accuracy = 0.7500\n",
      "Epoch 500: Loss = 0.2934, Accuracy = 0.7500\n",
      "Epoch 600: Loss = 0.2832, Accuracy = 0.7500\n",
      "Epoch 700: Loss = 0.2740, Accuracy = 0.7500\n",
      "Epoch 800: Loss = 0.2657, Accuracy = 0.7500\n",
      "Epoch 900: Loss = 0.2582, Accuracy = 0.7500\n"
     ]
    }
   ],
   "source": [
    "model = LogisticRegression()\n",
    "model.fit(X_train, y_train, seed=71, verbose=True)"
   ]
  },
  {
   "cell_type": "code",
   "execution_count": 15,
   "id": "lRiZzAuY3LYF",
   "metadata": {
    "colab": {
     "base_uri": "https://localhost:8080/"
    },
    "id": "lRiZzAuY3LYF",
    "outputId": "f654fb48-dbd4-418d-fb3c-405528833a38"
   },
   "outputs": [
    {
     "name": "stdout",
     "output_type": "stream",
     "text": [
      "Test accuracy: 0.8667\n"
     ]
    }
   ],
   "source": [
    "score = model.score(X_test, y_test)\n",
    "print(f\"Test accuracy: {score:.4f}\")"
   ]
  },
  {
   "cell_type": "code",
   "execution_count": 16,
   "id": "TeEYI_7H6tP7",
   "metadata": {
    "colab": {
     "base_uri": "https://localhost:8080/",
     "height": 451
    },
    "id": "TeEYI_7H6tP7",
    "outputId": "afac7865-1572-4495-b25c-de1c9546b42f"
   },
   "outputs": [
    {
     "data": {
      "image/png": "[encoded data removed]",
      "text/plain": [
       "<Figure size 640x480 with 1 Axes>"
      ]
     },
     "metadata": {},
     "output_type": "display_data"
    }
   ],
   "source": [
    "plt.plot(model.accuracy, label=\"Accuracy\")\n",
    "plt.plot(model.loss, label=\"Loss\")\n",
    "plt.ylabel(\"Loss/Accuracy\")\n",
    "plt.xlabel(\"Iterations\")\n",
    "plt.legend()\n",
    "plt.show()"
   ]
  }
 ],
 "metadata": {
  "colab": {
   "include_colab_link": true,
   "provenance": []
  },
  "kernelspec": {
   "display_name": "Python 3 (ipykernel)",
   "language": "python",
   "name": "python3"
  },
  "language_info": {
   "codemirror_mode": {
    "name": "ipython",
    "version": 3
   },
   "file_extension": ".py",
   "mimetype": "text/x-python",
   "name": "python",
   "nbconvert_exporter": "python",
   "pygments_lexer": "ipython3",
   "version": "3.12.2"
  }
 },
 "nbformat": 4,
 "nbformat_minor": 5
}
